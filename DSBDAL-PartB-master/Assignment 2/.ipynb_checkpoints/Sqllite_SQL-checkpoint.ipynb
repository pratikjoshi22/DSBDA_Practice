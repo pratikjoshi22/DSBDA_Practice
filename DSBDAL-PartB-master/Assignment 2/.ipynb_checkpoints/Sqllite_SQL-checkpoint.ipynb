{
 "cells": [
  {
   "cell_type": "code",
   "execution_count": 1,
   "id": "846fb705",
   "metadata": {},
   "outputs": [
    {
     "data": {
      "text/plain": [
       "'sqllite is lightweighted in memory database which holds small dataase\\nit cant hold huge data. useful for mobile '"
      ]
     },
     "execution_count": 1,
     "metadata": {},
     "output_type": "execute_result"
    }
   ],
   "source": [
    "\"\"\"sqllite is lightweighted in memory database which holds small dataase\n",
    "it cant hold huge data. useful for mobile \"\"\""
   ]
  },
  {
   "cell_type": "code",
   "execution_count": 1,
   "id": "6b0bf792",
   "metadata": {},
   "outputs": [],
   "source": [
    "import sqlite3"
   ]
  },
  {
   "cell_type": "code",
   "execution_count": 4,
   "id": "84f8d27d",
   "metadata": {},
   "outputs": [],
   "source": [
    "db=sqlite3.connect(\"company_database1.db\")"
   ]
  },
  {
   "cell_type": "code",
   "execution_count": 5,
   "id": "ab1b9111",
   "metadata": {},
   "outputs": [],
   "source": [
    "c=db.cursor() # initialize cursor/pointer "
   ]
  },
  {
   "cell_type": "code",
   "execution_count": 6,
   "id": "1c7b9dd0",
   "metadata": {},
   "outputs": [
    {
     "data": {
      "text/plain": [
       "<sqlite3.Cursor at 0x1e1b2729ab0>"
      ]
     },
     "execution_count": 6,
     "metadata": {},
     "output_type": "execute_result"
    }
   ],
   "source": [
    "c.execute('create table company1(id int,name text, age int,addr text,salary real)')"
   ]
  },
  {
   "cell_type": "code",
   "execution_count": 7,
   "id": "a76b7812",
   "metadata": {},
   "outputs": [
    {
     "data": {
      "text/plain": [
       "<sqlite3.Cursor at 0x1e1b2729ab0>"
      ]
     },
     "execution_count": 7,
     "metadata": {},
     "output_type": "execute_result"
    }
   ],
   "source": [
    "c.execute(\"insert into company1 values(1,'varsha',40,'gv7',90000)\")"
   ]
  },
  {
   "cell_type": "code",
   "execution_count": 12,
   "id": "44c7069f",
   "metadata": {},
   "outputs": [
    {
     "data": {
      "text/plain": [
       "<sqlite3.Cursor at 0x1e1b2729ab0>"
      ]
     },
     "execution_count": 12,
     "metadata": {},
     "output_type": "execute_result"
    }
   ],
   "source": [
    "c.execute(\"insert into company1 values(21,'sdd',42,'gv7',80000)\")\n",
    "c.execute(\"insert into company1 values(1,'sgd',41,'pune',85000)\")\n",
    "c.execute(\"insert into company1 values(2,'htfd',23,'sangli',83000)\")\n",
    "c.execute(\"insert into company1 values(3,'hhd',27,'mumbai',100000)\")\n",
    "c.execute(\"insert into company1 values(4,'dfgf',28,'ashta',18000)\")\n",
    "c.execute(\"insert into company1 values(5,'bb',32,'blore',90000)\")\n",
    "c.execute(\"insert into company1 values(6,'nnsdd',40,'usa',89000)\")\n",
    "c.execute(\"insert into company1 values(8,'mmsdd',30,'vg7',88000)\")\n",
    "c.execute(\"insert into company1 values(9,'vvsdd',40,'dfdgv7',150000)\")"
   ]
  },
  {
   "cell_type": "code",
   "execution_count": 13,
   "id": "8939b7df",
   "metadata": {},
   "outputs": [],
   "source": [
    "data=c.execute('select * from company1')"
   ]
  },
  {
   "cell_type": "code",
   "execution_count": 14,
   "id": "44594c5f",
   "metadata": {},
   "outputs": [
    {
     "name": "stdout",
     "output_type": "stream",
     "text": [
      "(1, 'varsha', 40, 'gv7', 90000.0)\n",
      "(21, 'sdd', 40, 'gv7', 80000.0)\n",
      "(21, 'sdd', 42, 'gv7', 80000.0)\n",
      "(1, 'sgd', 41, 'pune', 85000.0)\n",
      "(2, 'htfd', 23, 'sangli', 83000.0)\n",
      "(3, 'hhd', 27, 'mumbai', 100000.0)\n",
      "(4, 'dfgf', 28, 'ashta', 18000.0)\n",
      "(5, 'bb', 32, 'blore', 90000.0)\n",
      "(6, 'nnsdd', 40, 'usa', 89000.0)\n",
      "(8, 'mmsdd', 30, 'vg7', 88000.0)\n",
      "(9, 'vvsdd', 40, 'dfdgv7', 150000.0)\n"
     ]
    }
   ],
   "source": [
    "for i in data:\n",
    "    print(i)"
   ]
  },
  {
   "cell_type": "code",
   "execution_count": 11,
   "id": "56a75f8e",
   "metadata": {},
   "outputs": [],
   "source": [
    "db.commit()"
   ]
  },
  {
   "cell_type": "code",
   "execution_count": 17,
   "id": "d08d3c61",
   "metadata": {},
   "outputs": [],
   "source": [
    "data=db.execute('select  * from company1 where salary >90000')"
   ]
  },
  {
   "cell_type": "code",
   "execution_count": 18,
   "id": "453ee396",
   "metadata": {},
   "outputs": [
    {
     "name": "stdout",
     "output_type": "stream",
     "text": [
      "(3, 'hhd', 27, 'mumbai', 100000.0)\n",
      "(9, 'vvsdd', 40, 'dfdgv7', 150000.0)\n"
     ]
    }
   ],
   "source": [
    "for i in data:\n",
    "    print(i)"
   ]
  },
  {
   "cell_type": "code",
   "execution_count": 19,
   "id": "73aaab28",
   "metadata": {},
   "outputs": [],
   "source": [
    "data=db.execute(\"select  name from company1 where addr='pune'\")"
   ]
  },
  {
   "cell_type": "code",
   "execution_count": 20,
   "id": "58816a1e",
   "metadata": {},
   "outputs": [
    {
     "name": "stdout",
     "output_type": "stream",
     "text": [
      "('sgd',)\n"
     ]
    }
   ],
   "source": [
    "for i in data:\n",
    "    print(i)"
   ]
  },
  {
   "cell_type": "code",
   "execution_count": 27,
   "id": "9fa69245",
   "metadata": {},
   "outputs": [],
   "source": [
    "data=db.execute(\"select  id ,name,age from company1 order by age desc\")"
   ]
  },
  {
   "cell_type": "code",
   "execution_count": 28,
   "id": "cfdf429a",
   "metadata": {},
   "outputs": [
    {
     "name": "stdout",
     "output_type": "stream",
     "text": [
      "(21, 'sdd', 42)\n",
      "(1, 'sgd', 41)\n",
      "(1, 'varsha', 40)\n",
      "(21, 'sdd', 40)\n",
      "(6, 'nnsdd', 40)\n",
      "(9, 'vvsdd', 40)\n",
      "(5, 'bb', 32)\n",
      "(8, 'mmsdd', 30)\n",
      "(4, 'dfgf', 28)\n",
      "(3, 'hhd', 27)\n",
      "(2, 'htfd', 23)\n"
     ]
    }
   ],
   "source": [
    "for i in data:\n",
    "    print(i)"
   ]
  },
  {
   "cell_type": "code",
   "execution_count": 3,
   "id": "db4e1334",
   "metadata": {},
   "outputs": [],
   "source": [
    "db1=sqlite3.connect(\"sampledb.db\")"
   ]
  },
  {
   "cell_type": "code",
   "execution_count": 4,
   "id": "e72db77e",
   "metadata": {},
   "outputs": [],
   "source": [
    "c=db1.cursor()"
   ]
  },
  {
   "cell_type": "code",
   "execution_count": 5,
   "id": "be79cbf3",
   "metadata": {},
   "outputs": [
    {
     "data": {
      "text/plain": [
       "<sqlite3.Cursor at 0x253db6559d0>"
      ]
     },
     "execution_count": 5,
     "metadata": {},
     "output_type": "execute_result"
    }
   ],
   "source": [
    "c.execute('create table studentdetails(rollno int,name varchar2(5),class char)')"
   ]
  },
  {
   "cell_type": "code",
   "execution_count": 8,
   "id": "8d9aedbe",
   "metadata": {},
   "outputs": [
    {
     "data": {
      "text/plain": [
       "<sqlite3.Cursor at 0x253db6559d0>"
      ]
     },
     "execution_count": 8,
     "metadata": {},
     "output_type": "execute_result"
    }
   ],
   "source": [
    "c.execute('insert into studentdetails values(1,\"asd\",\"TE\")')"
   ]
  },
  {
   "cell_type": "code",
   "execution_count": 9,
   "id": "3f13582d",
   "metadata": {},
   "outputs": [
    {
     "data": {
      "text/plain": [
       "<sqlite3.Cursor at 0x253db6559d0>"
      ]
     },
     "execution_count": 9,
     "metadata": {},
     "output_type": "execute_result"
    }
   ],
   "source": [
    "c.execute('insert into studentdetails values(2,\"zxc\",\"TE\")')"
   ]
  },
  {
   "cell_type": "code",
   "execution_count": 10,
   "id": "f8307b0d",
   "metadata": {},
   "outputs": [
    {
     "data": {
      "text/plain": [
       "<sqlite3.Cursor at 0x253db6559d0>"
      ]
     },
     "execution_count": 10,
     "metadata": {},
     "output_type": "execute_result"
    }
   ],
   "source": [
    "c.execute('insert into studentdetails values(3,\"pqr\",\"TE\")')"
   ]
  },
  {
   "cell_type": "code",
   "execution_count": 11,
   "id": "680025d8",
   "metadata": {},
   "outputs": [
    {
     "data": {
      "text/plain": [
       "<sqlite3.Cursor at 0x253db6559d0>"
      ]
     },
     "execution_count": 11,
     "metadata": {},
     "output_type": "execute_result"
    }
   ],
   "source": [
    "c.execute('insert into studentdetails values(14,\"asgd\",\"TE\")')"
   ]
  },
  {
   "cell_type": "code",
   "execution_count": 13,
   "id": "e70ef4b0",
   "metadata": {},
   "outputs": [],
   "source": [
    "data=c.execute('select * from studentdetails LIMIT 2')"
   ]
  },
  {
   "cell_type": "code",
   "execution_count": 14,
   "id": "57cadce8",
   "metadata": {},
   "outputs": [
    {
     "name": "stdout",
     "output_type": "stream",
     "text": [
      "(1, 'asd', 'TE')\n",
      "(2, 'zxc', 'TE')\n"
     ]
    }
   ],
   "source": [
    "for i in data:\n",
    "    print(i)"
   ]
  },
  {
   "cell_type": "code",
   "execution_count": null,
   "id": "88c85cfa",
   "metadata": {},
   "outputs": [],
   "source": []
  }
 ],
 "metadata": {
  "kernelspec": {
   "display_name": "Python 3 (ipykernel)",
   "language": "python",
   "name": "python3"
  },
  "language_info": {
   "codemirror_mode": {
    "name": "ipython",
    "version": 3
   },
   "file_extension": ".py",
   "mimetype": "text/x-python",
   "name": "python",
   "nbconvert_exporter": "python",
   "pygments_lexer": "ipython3",
   "version": "3.9.6"
  }
 },
 "nbformat": 4,
 "nbformat_minor": 5
}
