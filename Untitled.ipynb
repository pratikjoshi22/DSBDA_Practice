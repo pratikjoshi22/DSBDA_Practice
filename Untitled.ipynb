{
 "cells": [
  {
   "cell_type": "code",
   "execution_count": 1,
   "id": "301d3889",
   "metadata": {},
   "outputs": [],
   "source": [
    "import pandas as pd"
   ]
  },
  {
   "cell_type": "code",
   "execution_count": 2,
   "id": "080bdd20",
   "metadata": {},
   "outputs": [],
   "source": [
    "df = pd.read_csv('dataset_Facebook.csv',delimiter=';')"
   ]
  },
  {
   "cell_type": "code",
   "execution_count": 3,
   "id": "c966cf00",
   "metadata": {},
   "outputs": [
    {
     "data": {
      "text/plain": [
       "<bound method NDFrame.describe of     Page total likes,Type,Category,Post Month,Post Weekday,Post Hour,Paid,Lifetime Post Total Reach,Lifetime Post Total Impressions,Lifetime Engaged Users,Lifetime Post Consumers,Lifetime Post Consumptions,Lifetime Post Impressions by people who have liked your Page,Lifetime Post reach by people who like your Page,Lifetime People who have liked your Page and engaged with your post,comment,like,share,Total Interactions\n",
       "0    139441,Photo,2,12,4,3,0,2752,5091,178,109,159,...                                                                                                                                                                                                                                                                                                                                                                               \n",
       "1    139441,Status,2,12,3,10,0,10460,19057,1457,136...                                                                                                                                                                                                                                                                                                                                                                               \n",
       "2    139441,Photo,3,12,3,3,0,2413,4373,177,113,154,...                                                                                                                                                                                                                                                                                                                                                                               \n",
       "3    139441,Photo,2,12,2,10,1,50128,87991,2211,790,...                                                                                                                                                                                                                                                                                                                                                                               \n",
       "4    139441,Photo,2,12,2,3,0,7244,13594,671,410,580...                                                                                                                                                                                                                                                                                                                                                                               \n",
       "..                                                 ...                                                                                                                                                                                                                                                                                                                                                                               \n",
       "495  85093,Photo,3,1,7,2,0,4684,7536,733,708,985,47...                                                                                                                                                                                                                                                                                                                                                                               \n",
       "496  81370,Photo,2,1,5,8,0,3480,6229,537,508,687,39...                                                                                                                                                                                                                                                                                                                                                                               \n",
       "497  81370,Photo,1,1,5,2,0,3778,7216,625,572,795,47...                                                                                                                                                                                                                                                                                                                                                                               \n",
       "498  81370,Photo,3,1,4,11,0,4156,7564,626,574,832,4...                                                                                                                                                                                                                                                                                                                                                                               \n",
       "499  81370,Photo,2,1,4,4,,4188,7292,564,524,743,386...                                                                                                                                                                                                                                                                                                                                                                               \n",
       "\n",
       "[500 rows x 1 columns]>"
      ]
     },
     "execution_count": 3,
     "metadata": {},
     "output_type": "execute_result"
    }
   ],
   "source": [
    "df.describe"
   ]
  },
  {
   "cell_type": "code",
   "execution_count": 4,
   "id": "fdf339e9",
   "metadata": {},
   "outputs": [
    {
     "data": {
      "text/html": [
       "<div>\n",
       "<style scoped>\n",
       "    .dataframe tbody tr th:only-of-type {\n",
       "        vertical-align: middle;\n",
       "    }\n",
       "\n",
       "    .dataframe tbody tr th {\n",
       "        vertical-align: top;\n",
       "    }\n",
       "\n",
       "    .dataframe thead th {\n",
       "        text-align: right;\n",
       "    }\n",
       "</style>\n",
       "<table border=\"1\" class=\"dataframe\">\n",
       "  <thead>\n",
       "    <tr style=\"text-align: right;\">\n",
       "      <th></th>\n",
       "      <th>Page total likes,Type,Category,Post Month,Post Weekday,Post Hour,Paid,Lifetime Post Total Reach,Lifetime Post Total Impressions,Lifetime Engaged Users,Lifetime Post Consumers,Lifetime Post Consumptions,Lifetime Post Impressions by people who have liked your Page,Lifetime Post reach by people who like your Page,Lifetime People who have liked your Page and engaged with your post,comment,like,share,Total Interactions</th>\n",
       "    </tr>\n",
       "  </thead>\n",
       "  <tbody>\n",
       "    <tr>\n",
       "      <th>count</th>\n",
       "      <td>500</td>\n",
       "    </tr>\n",
       "    <tr>\n",
       "      <th>unique</th>\n",
       "      <td>500</td>\n",
       "    </tr>\n",
       "    <tr>\n",
       "      <th>top</th>\n",
       "      <td>139441,Photo,2,12,4,3,0,2752,5091,178,109,159,...</td>\n",
       "    </tr>\n",
       "    <tr>\n",
       "      <th>freq</th>\n",
       "      <td>1</td>\n",
       "    </tr>\n",
       "  </tbody>\n",
       "</table>\n",
       "</div>"
      ],
      "text/plain": [
       "       Page total likes,Type,Category,Post Month,Post Weekday,Post Hour,Paid,Lifetime Post Total Reach,Lifetime Post Total Impressions,Lifetime Engaged Users,Lifetime Post Consumers,Lifetime Post Consumptions,Lifetime Post Impressions by people who have liked your Page,Lifetime Post reach by people who like your Page,Lifetime People who have liked your Page and engaged with your post,comment,like,share,Total Interactions\n",
       "count                                                 500                                                                                                                                                                                                                                                                                                                                                                               \n",
       "unique                                                500                                                                                                                                                                                                                                                                                                                                                                               \n",
       "top     139441,Photo,2,12,4,3,0,2752,5091,178,109,159,...                                                                                                                                                                                                                                                                                                                                                                               \n",
       "freq                                                    1                                                                                                                                                                                                                                                                                                                                                                               "
      ]
     },
     "execution_count": 4,
     "metadata": {},
     "output_type": "execute_result"
    }
   ],
   "source": [
    "df.describe()"
   ]
  },
  {
   "cell_type": "code",
   "execution_count": 5,
   "id": "6305267a",
   "metadata": {},
   "outputs": [
    {
     "data": {
      "text/plain": [
       "(500, 1)"
      ]
     },
     "execution_count": 5,
     "metadata": {},
     "output_type": "execute_result"
    }
   ],
   "source": [
    "df.shape"
   ]
  },
  {
   "cell_type": "code",
   "execution_count": 6,
   "id": "979948aa",
   "metadata": {},
   "outputs": [
    {
     "name": "stdout",
     "output_type": "stream",
     "text": [
      "<class 'pandas.core.frame.DataFrame'>\n",
      "RangeIndex: 500 entries, 0 to 499\n",
      "Data columns (total 1 columns):\n",
      " #   Column                                                                                                                                                                                                                                                                                                                                                                                                                             Non-Null Count  Dtype \n",
      "---  ------                                                                                                                                                                                                                                                                                                                                                                                                                             --------------  ----- \n",
      " 0   Page total likes,Type,Category,Post Month,Post Weekday,Post Hour,Paid,Lifetime Post Total Reach,Lifetime Post Total Impressions,Lifetime Engaged Users,Lifetime Post Consumers,Lifetime Post Consumptions,Lifetime Post Impressions by people who have liked your Page,Lifetime Post reach by people who like your Page,Lifetime People who have liked your Page and engaged with your post,comment,like,share,Total Interactions  500 non-null    object\n",
      "dtypes: object(1)\n",
      "memory usage: 4.0+ KB\n"
     ]
    }
   ],
   "source": [
    "df.info()"
   ]
  },
  {
   "cell_type": "code",
   "execution_count": 7,
   "id": "064e1df4",
   "metadata": {},
   "outputs": [
    {
     "data": {
      "text/plain": [
       "Index(['Page total likes,Type,Category,Post Month,Post Weekday,Post Hour,Paid,Lifetime Post Total Reach,Lifetime Post Total Impressions,Lifetime Engaged Users,Lifetime Post Consumers,Lifetime Post Consumptions,Lifetime Post Impressions by people who have liked your Page,Lifetime Post reach by people who like your Page,Lifetime People who have liked your Page and engaged with your post,comment,like,share,Total Interactions'], dtype='object')"
      ]
     },
     "execution_count": 7,
     "metadata": {},
     "output_type": "execute_result"
    }
   ],
   "source": [
    "df.columns"
   ]
  },
  {
   "cell_type": "code",
   "execution_count": 8,
   "id": "988c6b41",
   "metadata": {},
   "outputs": [
    {
     "data": {
      "text/html": [
       "<div>\n",
       "<style scoped>\n",
       "    .dataframe tbody tr th:only-of-type {\n",
       "        vertical-align: middle;\n",
       "    }\n",
       "\n",
       "    .dataframe tbody tr th {\n",
       "        vertical-align: top;\n",
       "    }\n",
       "\n",
       "    .dataframe thead th {\n",
       "        text-align: right;\n",
       "    }\n",
       "</style>\n",
       "<table border=\"1\" class=\"dataframe\">\n",
       "  <thead>\n",
       "    <tr style=\"text-align: right;\">\n",
       "      <th></th>\n",
       "      <th>Page total likes,Type,Category,Post Month,Post Weekday,Post Hour,Paid,Lifetime Post Total Reach,Lifetime Post Total Impressions,Lifetime Engaged Users,Lifetime Post Consumers,Lifetime Post Consumptions,Lifetime Post Impressions by people who have liked your Page,Lifetime Post reach by people who like your Page,Lifetime People who have liked your Page and engaged with your post,comment,like,share,Total Interactions</th>\n",
       "    </tr>\n",
       "  </thead>\n",
       "  <tbody>\n",
       "    <tr>\n",
       "      <th>0</th>\n",
       "      <td>139441,Photo,2,12,4,3,0,2752,5091,178,109,159,...</td>\n",
       "    </tr>\n",
       "    <tr>\n",
       "      <th>1</th>\n",
       "      <td>139441,Status,2,12,3,10,0,10460,19057,1457,136...</td>\n",
       "    </tr>\n",
       "    <tr>\n",
       "      <th>2</th>\n",
       "      <td>139441,Photo,3,12,3,3,0,2413,4373,177,113,154,...</td>\n",
       "    </tr>\n",
       "    <tr>\n",
       "      <th>3</th>\n",
       "      <td>139441,Photo,2,12,2,10,1,50128,87991,2211,790,...</td>\n",
       "    </tr>\n",
       "    <tr>\n",
       "      <th>4</th>\n",
       "      <td>139441,Photo,2,12,2,3,0,7244,13594,671,410,580...</td>\n",
       "    </tr>\n",
       "    <tr>\n",
       "      <th>5</th>\n",
       "      <td>139441,Status,2,12,1,9,0,10472,20849,1191,1073...</td>\n",
       "    </tr>\n",
       "    <tr>\n",
       "      <th>6</th>\n",
       "      <td>139441,Photo,3,12,1,3,1,11692,19479,481,265,36...</td>\n",
       "    </tr>\n",
       "    <tr>\n",
       "      <th>7</th>\n",
       "      <td>139441,Photo,3,12,7,9,1,13720,24137,537,232,30...</td>\n",
       "    </tr>\n",
       "    <tr>\n",
       "      <th>8</th>\n",
       "      <td>139441,Status,2,12,7,3,0,11844,22538,1530,1407...</td>\n",
       "    </tr>\n",
       "    <tr>\n",
       "      <th>9</th>\n",
       "      <td>139441,Photo,3,12,6,10,0,4694,8668,280,183,250...</td>\n",
       "    </tr>\n",
       "  </tbody>\n",
       "</table>\n",
       "</div>"
      ],
      "text/plain": [
       "  Page total likes,Type,Category,Post Month,Post Weekday,Post Hour,Paid,Lifetime Post Total Reach,Lifetime Post Total Impressions,Lifetime Engaged Users,Lifetime Post Consumers,Lifetime Post Consumptions,Lifetime Post Impressions by people who have liked your Page,Lifetime Post reach by people who like your Page,Lifetime People who have liked your Page and engaged with your post,comment,like,share,Total Interactions\n",
       "0  139441,Photo,2,12,4,3,0,2752,5091,178,109,159,...                                                                                                                                                                                                                                                                                                                                                                               \n",
       "1  139441,Status,2,12,3,10,0,10460,19057,1457,136...                                                                                                                                                                                                                                                                                                                                                                               \n",
       "2  139441,Photo,3,12,3,3,0,2413,4373,177,113,154,...                                                                                                                                                                                                                                                                                                                                                                               \n",
       "3  139441,Photo,2,12,2,10,1,50128,87991,2211,790,...                                                                                                                                                                                                                                                                                                                                                                               \n",
       "4  139441,Photo,2,12,2,3,0,7244,13594,671,410,580...                                                                                                                                                                                                                                                                                                                                                                               \n",
       "5  139441,Status,2,12,1,9,0,10472,20849,1191,1073...                                                                                                                                                                                                                                                                                                                                                                               \n",
       "6  139441,Photo,3,12,1,3,1,11692,19479,481,265,36...                                                                                                                                                                                                                                                                                                                                                                               \n",
       "7  139441,Photo,3,12,7,9,1,13720,24137,537,232,30...                                                                                                                                                                                                                                                                                                                                                                               \n",
       "8  139441,Status,2,12,7,3,0,11844,22538,1530,1407...                                                                                                                                                                                                                                                                                                                                                                               \n",
       "9  139441,Photo,3,12,6,10,0,4694,8668,280,183,250...                                                                                                                                                                                                                                                                                                                                                                               "
      ]
     },
     "execution_count": 8,
     "metadata": {},
     "output_type": "execute_result"
    }
   ],
   "source": [
    "df.head(10)"
   ]
  },
  {
   "cell_type": "code",
   "execution_count": 9,
   "id": "dec1c9b6",
   "metadata": {},
   "outputs": [],
   "source": [
    "subset1=df[10:40]"
   ]
  },
  {
   "cell_type": "code",
   "execution_count": 10,
   "id": "a303d860",
   "metadata": {},
   "outputs": [
    {
     "data": {
      "text/html": [
       "<div>\n",
       "<style scoped>\n",
       "    .dataframe tbody tr th:only-of-type {\n",
       "        vertical-align: middle;\n",
       "    }\n",
       "\n",
       "    .dataframe tbody tr th {\n",
       "        vertical-align: top;\n",
       "    }\n",
       "\n",
       "    .dataframe thead th {\n",
       "        text-align: right;\n",
       "    }\n",
       "</style>\n",
       "<table border=\"1\" class=\"dataframe\">\n",
       "  <thead>\n",
       "    <tr style=\"text-align: right;\">\n",
       "      <th></th>\n",
       "      <th>Page total likes,Type,Category,Post Month,Post Weekday,Post Hour,Paid,Lifetime Post Total Reach,Lifetime Post Total Impressions,Lifetime Engaged Users,Lifetime Post Consumers,Lifetime Post Consumptions,Lifetime Post Impressions by people who have liked your Page,Lifetime Post reach by people who like your Page,Lifetime People who have liked your Page and engaged with your post,comment,like,share,Total Interactions</th>\n",
       "    </tr>\n",
       "  </thead>\n",
       "  <tbody>\n",
       "    <tr>\n",
       "      <th>10</th>\n",
       "      <td>139441,Status,2,12,5,10,0,21744,42334,4258,410...</td>\n",
       "    </tr>\n",
       "    <tr>\n",
       "      <th>11</th>\n",
       "      <td>139441,Photo,2,12,5,10,0,3112,5590,208,127,145...</td>\n",
       "    </tr>\n",
       "    <tr>\n",
       "      <th>12</th>\n",
       "      <td>139441,Photo,2,12,5,10,0,2847,5133,193,115,133...</td>\n",
       "    </tr>\n",
       "    <tr>\n",
       "      <th>13</th>\n",
       "      <td>139441,Photo,2,12,5,3,0,2549,4896,249,134,168,...</td>\n",
       "    </tr>\n",
       "    <tr>\n",
       "      <th>14</th>\n",
       "      <td>138414,Photo,2,12,4,5,1,22784,39941,887,337,41...</td>\n",
       "    </tr>\n",
       "    <tr>\n",
       "      <th>15</th>\n",
       "      <td>138414,Status,2,12,3,10,0,10060,19680,1264,120...</td>\n",
       "    </tr>\n",
       "    <tr>\n",
       "      <th>16</th>\n",
       "      <td>138414,Photo,3,12,3,3,0,1722,2981,163,123,148,...</td>\n",
       "    </tr>\n",
       "    <tr>\n",
       "      <th>17</th>\n",
       "      <td>138414,Photo,1,12,2,12,1,53264,111785,1706,110...</td>\n",
       "    </tr>\n",
       "    <tr>\n",
       "      <th>18</th>\n",
       "      <td>138414,Status,3,12,2,3,0,3930,7509,130,86,112,...</td>\n",
       "    </tr>\n",
       "    <tr>\n",
       "      <th>19</th>\n",
       "      <td>138414,Photo,3,12,1,11,0,1591,2825,121,88,111,...</td>\n",
       "    </tr>\n",
       "    <tr>\n",
       "      <th>20</th>\n",
       "      <td>138414,Photo,2,12,1,3,0,2848,5066,200,142,184,...</td>\n",
       "    </tr>\n",
       "    <tr>\n",
       "      <th>21</th>\n",
       "      <td>138414,Photo,1,12,7,10,0,1384,2467,15,15,20,21...</td>\n",
       "    </tr>\n",
       "    <tr>\n",
       "      <th>22</th>\n",
       "      <td>138414,Link,1,12,7,10,0,3454,6853,118,104,130,...</td>\n",
       "    </tr>\n",
       "    <tr>\n",
       "      <th>23</th>\n",
       "      <td>138414,Photo,3,12,7,3,0,2723,4888,176,118,143,...</td>\n",
       "    </tr>\n",
       "    <tr>\n",
       "      <th>24</th>\n",
       "      <td>138414,Status,2,12,6,10,0,8488,15294,1341,1270...</td>\n",
       "    </tr>\n",
       "    <tr>\n",
       "      <th>25</th>\n",
       "      <td>138458,Status,2,12,6,3,0,8284,15104,1521,1462,...</td>\n",
       "    </tr>\n",
       "    <tr>\n",
       "      <th>26</th>\n",
       "      <td>138458,Status,2,12,5,11,0,19552,34143,2806,253...</td>\n",
       "    </tr>\n",
       "    <tr>\n",
       "      <th>27</th>\n",
       "      <td>138458,Photo,3,12,5,3,0,2478,4306,212,124,149,...</td>\n",
       "    </tr>\n",
       "    <tr>\n",
       "      <th>28</th>\n",
       "      <td>138895,Photo,2,12,5,3,0,9560,18264,973,559,885...</td>\n",
       "    </tr>\n",
       "    <tr>\n",
       "      <th>29</th>\n",
       "      <td>138895,Video,1,12,4,11,1,36208,61262,1141,1068...</td>\n",
       "    </tr>\n",
       "    <tr>\n",
       "      <th>30</th>\n",
       "      <td>138895,Photo,2,12,4,2,0,4940,9390,385,306,501,...</td>\n",
       "    </tr>\n",
       "    <tr>\n",
       "      <th>31</th>\n",
       "      <td>138895,Photo,2,12,3,10,0,1683,2929,192,171,221...</td>\n",
       "    </tr>\n",
       "    <tr>\n",
       "      <th>32</th>\n",
       "      <td>138895,Photo,3,12,3,3,0,5280,9578,368,237,345,...</td>\n",
       "    </tr>\n",
       "    <tr>\n",
       "      <th>33</th>\n",
       "      <td>138895,Photo,3,12,2,9,0,3002,5318,268,185,247,...</td>\n",
       "    </tr>\n",
       "    <tr>\n",
       "      <th>34</th>\n",
       "      <td>138895,Photo,1,12,2,3,0,3766,7149,298,260,431,...</td>\n",
       "    </tr>\n",
       "    <tr>\n",
       "      <th>35</th>\n",
       "      <td>138895,Photo,2,12,1,11,0,4512,7808,423,284,431...</td>\n",
       "    </tr>\n",
       "    <tr>\n",
       "      <th>36</th>\n",
       "      <td>138895,Photo,3,12,1,3,0,2690,4628,252,168,226,...</td>\n",
       "    </tr>\n",
       "    <tr>\n",
       "      <th>37</th>\n",
       "      <td>138895,Photo,1,12,7,10,1,19800,28663,479,424,8...</td>\n",
       "    </tr>\n",
       "    <tr>\n",
       "      <th>38</th>\n",
       "      <td>138895,Status,2,12,7,9,0,17576,33058,5352,5202...</td>\n",
       "    </tr>\n",
       "    <tr>\n",
       "      <th>39</th>\n",
       "      <td>138895,Photo,1,12,7,3,0,3290,6085,306,284,402,...</td>\n",
       "    </tr>\n",
       "  </tbody>\n",
       "</table>\n",
       "</div>"
      ],
      "text/plain": [
       "   Page total likes,Type,Category,Post Month,Post Weekday,Post Hour,Paid,Lifetime Post Total Reach,Lifetime Post Total Impressions,Lifetime Engaged Users,Lifetime Post Consumers,Lifetime Post Consumptions,Lifetime Post Impressions by people who have liked your Page,Lifetime Post reach by people who like your Page,Lifetime People who have liked your Page and engaged with your post,comment,like,share,Total Interactions\n",
       "10  139441,Status,2,12,5,10,0,21744,42334,4258,410...                                                                                                                                                                                                                                                                                                                                                                               \n",
       "11  139441,Photo,2,12,5,10,0,3112,5590,208,127,145...                                                                                                                                                                                                                                                                                                                                                                               \n",
       "12  139441,Photo,2,12,5,10,0,2847,5133,193,115,133...                                                                                                                                                                                                                                                                                                                                                                               \n",
       "13  139441,Photo,2,12,5,3,0,2549,4896,249,134,168,...                                                                                                                                                                                                                                                                                                                                                                               \n",
       "14  138414,Photo,2,12,4,5,1,22784,39941,887,337,41...                                                                                                                                                                                                                                                                                                                                                                               \n",
       "15  138414,Status,2,12,3,10,0,10060,19680,1264,120...                                                                                                                                                                                                                                                                                                                                                                               \n",
       "16  138414,Photo,3,12,3,3,0,1722,2981,163,123,148,...                                                                                                                                                                                                                                                                                                                                                                               \n",
       "17  138414,Photo,1,12,2,12,1,53264,111785,1706,110...                                                                                                                                                                                                                                                                                                                                                                               \n",
       "18  138414,Status,3,12,2,3,0,3930,7509,130,86,112,...                                                                                                                                                                                                                                                                                                                                                                               \n",
       "19  138414,Photo,3,12,1,11,0,1591,2825,121,88,111,...                                                                                                                                                                                                                                                                                                                                                                               \n",
       "20  138414,Photo,2,12,1,3,0,2848,5066,200,142,184,...                                                                                                                                                                                                                                                                                                                                                                               \n",
       "21  138414,Photo,1,12,7,10,0,1384,2467,15,15,20,21...                                                                                                                                                                                                                                                                                                                                                                               \n",
       "22  138414,Link,1,12,7,10,0,3454,6853,118,104,130,...                                                                                                                                                                                                                                                                                                                                                                               \n",
       "23  138414,Photo,3,12,7,3,0,2723,4888,176,118,143,...                                                                                                                                                                                                                                                                                                                                                                               \n",
       "24  138414,Status,2,12,6,10,0,8488,15294,1341,1270...                                                                                                                                                                                                                                                                                                                                                                               \n",
       "25  138458,Status,2,12,6,3,0,8284,15104,1521,1462,...                                                                                                                                                                                                                                                                                                                                                                               \n",
       "26  138458,Status,2,12,5,11,0,19552,34143,2806,253...                                                                                                                                                                                                                                                                                                                                                                               \n",
       "27  138458,Photo,3,12,5,3,0,2478,4306,212,124,149,...                                                                                                                                                                                                                                                                                                                                                                               \n",
       "28  138895,Photo,2,12,5,3,0,9560,18264,973,559,885...                                                                                                                                                                                                                                                                                                                                                                               \n",
       "29  138895,Video,1,12,4,11,1,36208,61262,1141,1068...                                                                                                                                                                                                                                                                                                                                                                               \n",
       "30  138895,Photo,2,12,4,2,0,4940,9390,385,306,501,...                                                                                                                                                                                                                                                                                                                                                                               \n",
       "31  138895,Photo,2,12,3,10,0,1683,2929,192,171,221...                                                                                                                                                                                                                                                                                                                                                                               \n",
       "32  138895,Photo,3,12,3,3,0,5280,9578,368,237,345,...                                                                                                                                                                                                                                                                                                                                                                               \n",
       "33  138895,Photo,3,12,2,9,0,3002,5318,268,185,247,...                                                                                                                                                                                                                                                                                                                                                                               \n",
       "34  138895,Photo,1,12,2,3,0,3766,7149,298,260,431,...                                                                                                                                                                                                                                                                                                                                                                               \n",
       "35  138895,Photo,2,12,1,11,0,4512,7808,423,284,431...                                                                                                                                                                                                                                                                                                                                                                               \n",
       "36  138895,Photo,3,12,1,3,0,2690,4628,252,168,226,...                                                                                                                                                                                                                                                                                                                                                                               \n",
       "37  138895,Photo,1,12,7,10,1,19800,28663,479,424,8...                                                                                                                                                                                                                                                                                                                                                                               \n",
       "38  138895,Status,2,12,7,9,0,17576,33058,5352,5202...                                                                                                                                                                                                                                                                                                                                                                               \n",
       "39  138895,Photo,1,12,7,3,0,3290,6085,306,284,402,...                                                                                                                                                                                                                                                                                                                                                                               "
      ]
     },
     "execution_count": 10,
     "metadata": {},
     "output_type": "execute_result"
    }
   ],
   "source": [
    "subset1"
   ]
  },
  {
   "cell_type": "code",
   "execution_count": null,
   "id": "baa5ce99",
   "metadata": {},
   "outputs": [],
   "source": []
  }
 ],
 "metadata": {
  "kernelspec": {
   "display_name": "Python 3 (ipykernel)",
   "language": "python",
   "name": "python3"
  },
  "language_info": {
   "codemirror_mode": {
    "name": "ipython",
    "version": 3
   },
   "file_extension": ".py",
   "mimetype": "text/x-python",
   "name": "python",
   "nbconvert_exporter": "python",
   "pygments_lexer": "ipython3",
   "version": "3.9.2"
  }
 },
 "nbformat": 4,
 "nbformat_minor": 5
}
